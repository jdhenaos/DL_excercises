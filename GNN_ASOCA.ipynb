{
  "nbformat": 4,
  "nbformat_minor": 0,
  "metadata": {
    "colab": {
      "provenance": [],
      "authorship_tag": "ABX9TyNGuzAEkpy0CitGzeureLkR",
      "include_colab_link": true
    },
    "kernelspec": {
      "name": "python3",
      "display_name": "Python 3"
    },
    "language_info": {
      "name": "python"
    }
  },
  "cells": [
    {
      "cell_type": "markdown",
      "metadata": {
        "id": "view-in-github",
        "colab_type": "text"
      },
      "source": [
        "<a href=\"https://colab.research.google.com/github/jdhenaos/DL_excercises/blob/main/GNN_ASOCA.ipynb\" target=\"_parent\"><img src=\"https://colab.research.google.com/assets/colab-badge.svg\" alt=\"Open In Colab\"/></a>"
      ]
    },
    {
      "cell_type": "code",
      "source": [
        "!pip install torch\n",
        "!pip install torch-geometric"
      ],
      "metadata": {
        "colab": {
          "base_uri": "https://localhost:8080/"
        },
        "id": "VNmHPtmtqWOY",
        "outputId": "7d96975f-1466-4c91-ce59-318799a3f392"
      },
      "execution_count": null,
      "outputs": [
        {
          "output_type": "stream",
          "name": "stdout",
          "text": [
            "Requirement already satisfied: torch in /usr/local/lib/python3.10/dist-packages (2.4.1+cu121)\n",
            "Requirement already satisfied: filelock in /usr/local/lib/python3.10/dist-packages (from torch) (3.16.1)\n",
            "Requirement already satisfied: typing-extensions>=4.8.0 in /usr/local/lib/python3.10/dist-packages (from torch) (4.12.2)\n",
            "Requirement already satisfied: sympy in /usr/local/lib/python3.10/dist-packages (from torch) (1.13.3)\n",
            "Requirement already satisfied: networkx in /usr/local/lib/python3.10/dist-packages (from torch) (3.3)\n",
            "Requirement already satisfied: jinja2 in /usr/local/lib/python3.10/dist-packages (from torch) (3.1.4)\n",
            "Requirement already satisfied: fsspec in /usr/local/lib/python3.10/dist-packages (from torch) (2024.6.1)\n",
            "Requirement already satisfied: MarkupSafe>=2.0 in /usr/local/lib/python3.10/dist-packages (from jinja2->torch) (2.1.5)\n",
            "Requirement already satisfied: mpmath<1.4,>=1.1.0 in /usr/local/lib/python3.10/dist-packages (from sympy->torch) (1.3.0)\n",
            "Collecting torch-geometric\n",
            "  Downloading torch_geometric-2.6.1-py3-none-any.whl.metadata (63 kB)\n",
            "\u001b[2K     \u001b[90m━━━━━━━━━━━━━━━━━━━━━━━━━━━━━━━━━━━━━━━━\u001b[0m \u001b[32m63.1/63.1 kB\u001b[0m \u001b[31m1.8 MB/s\u001b[0m eta \u001b[36m0:00:00\u001b[0m\n",
            "\u001b[?25hRequirement already satisfied: aiohttp in /usr/local/lib/python3.10/dist-packages (from torch-geometric) (3.10.9)\n",
            "Requirement already satisfied: fsspec in /usr/local/lib/python3.10/dist-packages (from torch-geometric) (2024.6.1)\n",
            "Requirement already satisfied: jinja2 in /usr/local/lib/python3.10/dist-packages (from torch-geometric) (3.1.4)\n",
            "Requirement already satisfied: numpy in /usr/local/lib/python3.10/dist-packages (from torch-geometric) (1.26.4)\n",
            "Requirement already satisfied: psutil>=5.8.0 in /usr/local/lib/python3.10/dist-packages (from torch-geometric) (5.9.5)\n",
            "Requirement already satisfied: pyparsing in /usr/local/lib/python3.10/dist-packages (from torch-geometric) (3.1.4)\n",
            "Requirement already satisfied: requests in /usr/local/lib/python3.10/dist-packages (from torch-geometric) (2.32.3)\n",
            "Requirement already satisfied: tqdm in /usr/local/lib/python3.10/dist-packages (from torch-geometric) (4.66.5)\n",
            "Requirement already satisfied: aiohappyeyeballs>=2.3.0 in /usr/local/lib/python3.10/dist-packages (from aiohttp->torch-geometric) (2.4.3)\n",
            "Requirement already satisfied: aiosignal>=1.1.2 in /usr/local/lib/python3.10/dist-packages (from aiohttp->torch-geometric) (1.3.1)\n",
            "Requirement already satisfied: attrs>=17.3.0 in /usr/local/lib/python3.10/dist-packages (from aiohttp->torch-geometric) (24.2.0)\n",
            "Requirement already satisfied: frozenlist>=1.1.1 in /usr/local/lib/python3.10/dist-packages (from aiohttp->torch-geometric) (1.4.1)\n",
            "Requirement already satisfied: multidict<7.0,>=4.5 in /usr/local/lib/python3.10/dist-packages (from aiohttp->torch-geometric) (6.1.0)\n",
            "Requirement already satisfied: yarl<2.0,>=1.12.0 in /usr/local/lib/python3.10/dist-packages (from aiohttp->torch-geometric) (1.13.1)\n",
            "Requirement already satisfied: async-timeout<5.0,>=4.0 in /usr/local/lib/python3.10/dist-packages (from aiohttp->torch-geometric) (4.0.3)\n",
            "Requirement already satisfied: MarkupSafe>=2.0 in /usr/local/lib/python3.10/dist-packages (from jinja2->torch-geometric) (2.1.5)\n",
            "Requirement already satisfied: charset-normalizer<4,>=2 in /usr/local/lib/python3.10/dist-packages (from requests->torch-geometric) (3.3.2)\n",
            "Requirement already satisfied: idna<4,>=2.5 in /usr/local/lib/python3.10/dist-packages (from requests->torch-geometric) (3.10)\n",
            "Requirement already satisfied: urllib3<3,>=1.21.1 in /usr/local/lib/python3.10/dist-packages (from requests->torch-geometric) (2.2.3)\n",
            "Requirement already satisfied: certifi>=2017.4.17 in /usr/local/lib/python3.10/dist-packages (from requests->torch-geometric) (2024.8.30)\n",
            "Requirement already satisfied: typing-extensions>=4.1.0 in /usr/local/lib/python3.10/dist-packages (from multidict<7.0,>=4.5->aiohttp->torch-geometric) (4.12.2)\n",
            "Downloading torch_geometric-2.6.1-py3-none-any.whl (1.1 MB)\n",
            "\u001b[2K   \u001b[90m━━━━━━━━━━━━━━━━━━━━━━━━━━━━━━━━━━━━━━━━\u001b[0m \u001b[32m1.1/1.1 MB\u001b[0m \u001b[31m17.3 MB/s\u001b[0m eta \u001b[36m0:00:00\u001b[0m\n",
            "\u001b[?25hInstalling collected packages: torch-geometric\n",
            "Successfully installed torch-geometric-2.6.1\n"
          ]
        }
      ]
    },
    {
      "cell_type": "code",
      "execution_count": null,
      "metadata": {
        "colab": {
          "base_uri": "https://localhost:8080/"
        },
        "id": "i07IoiwDlWdo",
        "outputId": "a92e8de3-783a-40ce-b968-db55bb8e39a2"
      },
      "outputs": [
        {
          "output_type": "stream",
          "name": "stderr",
          "text": [
            "Downloading http://vision.princeton.edu/projects/2014/3DShapeNets/ModelNet10.zip\n",
            "Extracting /tmp/modelnet10/ModelNet10.zip\n",
            "Processing...\n",
            "Done!\n"
          ]
        }
      ],
      "source": [
        "import os.path as osp\n",
        "\n",
        "import torch\n",
        "import torch.nn.functional as F\n",
        "from torch.nn import Linear\n",
        "\n",
        "import torch_geometric.transforms as T\n",
        "from torch_geometric.datasets import ModelNet\n",
        "from torch_geometric.loader import DataLoader\n",
        "from torch_geometric.nn import MLP, DynamicEdgeConv, global_max_pool\n",
        "\n",
        "path = '/tmp/modelnet10'\n",
        "pre_transform, transform = T.NormalizeScale(), T.SamplePoints(1024)\n",
        "train_dataset = ModelNet(path, '10', True, transform, pre_transform)\n",
        "test_dataset = ModelNet(path, '10', False, transform, pre_transform)"
      ]
    },
    {
      "cell_type": "code",
      "source": [
        "from torch_geometric.io import fs, read_off\n",
        "\n",
        "data = read_off('/tmp/modelnet10/raw/chair/train/chair_0001.off')"
      ],
      "metadata": {
        "id": "pfciFlNks7--"
      },
      "execution_count": null,
      "outputs": []
    },
    {
      "cell_type": "code",
      "source": [
        "type(data)"
      ],
      "metadata": {
        "colab": {
          "base_uri": "https://localhost:8080/",
          "height": 207
        },
        "id": "x3Jc6CJk7TAE",
        "outputId": "409bda4b-6260-44ac-b948-5c579e34a588"
      },
      "execution_count": null,
      "outputs": [
        {
          "output_type": "execute_result",
          "data": {
            "text/plain": [
              "torch_geometric.data.data.Data"
            ],
            "text/html": [
              "<div style=\"max-width:800px; border: 1px solid var(--colab-border-color);\"><style>\n",
              "      pre.function-repr-contents {\n",
              "        overflow-x: auto;\n",
              "        padding: 8px 12px;\n",
              "        max-height: 500px;\n",
              "      }\n",
              "\n",
              "      pre.function-repr-contents.function-repr-contents-collapsed {\n",
              "        cursor: pointer;\n",
              "        max-height: 100px;\n",
              "      }\n",
              "    </style>\n",
              "    <pre style=\"white-space: initial; background:\n",
              "         var(--colab-secondary-surface-color); padding: 8px 12px;\n",
              "         border-bottom: 1px solid var(--colab-border-color);\"><b>torch_geometric.data.data.Data</b><br/>def __call__(*args: str) -&gt; Iterable</pre><pre class=\"function-repr-contents function-repr-contents-collapsed\" style=\"\"><a class=\"filepath\" style=\"display:none\" href=\"#\">/usr/local/lib/python3.10/dist-packages/torch_geometric/data/data.py</a>A data object describing a homogeneous graph.\n",
              "The data object can hold node-level, link-level and graph-level attributes.\n",
              "In general, :class:`~torch_geometric.data.Data` tries to mimic the\n",
              "behavior of a regular :python:`Python` dictionary.\n",
              "In addition, it provides useful functionality for analyzing graph\n",
              "structures, and provides basic PyTorch tensor functionalities.\n",
              "See `here &lt;https://pytorch-geometric.readthedocs.io/en/latest/get_started/\n",
              "introduction.html#data-handling-of-graphs&gt;`__ for the accompanying\n",
              "tutorial.\n",
              "\n",
              ".. code-block:: python\n",
              "\n",
              "    from torch_geometric.data import Data\n",
              "\n",
              "    data = Data(x=x, edge_index=edge_index, ...)\n",
              "\n",
              "    # Add additional arguments to `data`:\n",
              "    data.train_idx = torch.tensor([...], dtype=torch.long)\n",
              "    data.test_mask = torch.tensor([...], dtype=torch.bool)\n",
              "\n",
              "    # Analyzing the graph structure:\n",
              "    data.num_nodes\n",
              "    &gt;&gt;&gt; 23\n",
              "\n",
              "    data.is_directed()\n",
              "    &gt;&gt;&gt; False\n",
              "\n",
              "    # PyTorch tensor functionality:\n",
              "    data = data.pin_memory()\n",
              "    data = data.to(&#x27;cuda:0&#x27;, non_blocking=True)\n",
              "\n",
              "Args:\n",
              "    x (torch.Tensor, optional): Node feature matrix with shape\n",
              "        :obj:`[num_nodes, num_node_features]`. (default: :obj:`None`)\n",
              "    edge_index (LongTensor, optional): Graph connectivity in COO format\n",
              "        with shape :obj:`[2, num_edges]`. (default: :obj:`None`)\n",
              "    edge_attr (torch.Tensor, optional): Edge feature matrix with shape\n",
              "        :obj:`[num_edges, num_edge_features]`. (default: :obj:`None`)\n",
              "    y (torch.Tensor, optional): Graph-level or node-level ground-truth\n",
              "        labels with arbitrary shape. (default: :obj:`None`)\n",
              "    pos (torch.Tensor, optional): Node position matrix with shape\n",
              "        :obj:`[num_nodes, num_dimensions]`. (default: :obj:`None`)\n",
              "    time (torch.Tensor, optional): The timestamps for each event with shape\n",
              "        :obj:`[num_edges]` or :obj:`[num_nodes]`. (default: :obj:`None`)\n",
              "    **kwargs (optional): Additional attributes.</pre>\n",
              "      <script>\n",
              "      if (google.colab.kernel.accessAllowed && google.colab.files && google.colab.files.view) {\n",
              "        for (const element of document.querySelectorAll('.filepath')) {\n",
              "          element.style.display = 'block'\n",
              "          element.onclick = (event) => {\n",
              "            event.preventDefault();\n",
              "            event.stopPropagation();\n",
              "            google.colab.files.view(element.textContent, 471);\n",
              "          };\n",
              "        }\n",
              "      }\n",
              "      for (const element of document.querySelectorAll('.function-repr-contents')) {\n",
              "        element.onclick = (event) => {\n",
              "          event.preventDefault();\n",
              "          event.stopPropagation();\n",
              "          element.classList.toggle('function-repr-contents-collapsed');\n",
              "        };\n",
              "      }\n",
              "      </script>\n",
              "      </div>"
            ]
          },
          "metadata": {},
          "execution_count": 19
        }
      ]
    },
    {
      "cell_type": "code",
      "source": [
        "!pip install MedShapeNet\n",
        "\n",
        "from MedShapeNet import MedShapeNet as msn\n"
      ],
      "metadata": {
        "colab": {
          "base_uri": "https://localhost:8080/"
        },
        "id": "Roqi8fRi9IIq",
        "outputId": "8a5ed02a-8f98-498e-98a0-723ab209da62"
      },
      "execution_count": null,
      "outputs": [
        {
          "output_type": "stream",
          "name": "stdout",
          "text": [
            "Requirement already satisfied: MedShapeNet in /usr/local/lib/python3.10/dist-packages (0.1.25)\n",
            "Requirement already satisfied: minio>=7.2.8 in /usr/local/lib/python3.10/dist-packages (from MedShapeNet) (7.2.9)\n",
            "Requirement already satisfied: tqdm>=4.66.5 in /usr/local/lib/python3.10/dist-packages (from MedShapeNet) (4.66.5)\n",
            "Requirement already satisfied: numpy<1.26.0,>=1.18.5 in /usr/local/lib/python3.10/dist-packages (from MedShapeNet) (1.25.2)\n",
            "Requirement already satisfied: numpy-stl>=3.1.2 in /usr/local/lib/python3.10/dist-packages (from MedShapeNet) (3.1.2)\n",
            "Requirement already satisfied: requests>=2.32.3 in /usr/local/lib/python3.10/dist-packages (from MedShapeNet) (2.32.3)\n",
            "Requirement already satisfied: fire>=0.6.0 in /usr/local/lib/python3.10/dist-packages (from MedShapeNet) (0.7.0)\n",
            "Requirement already satisfied: trimesh>=4.4.9 in /usr/local/lib/python3.10/dist-packages (from MedShapeNet) (4.4.9)\n",
            "Requirement already satisfied: pydicom>=2.2.0 in /usr/local/lib/python3.10/dist-packages (from MedShapeNet) (3.0.1)\n",
            "Requirement already satisfied: python-gdcm in /usr/local/lib/python3.10/dist-packages (from MedShapeNet) (3.0.24.1)\n",
            "Requirement already satisfied: pygments>=2.4.0 in /usr/local/lib/python3.10/dist-packages (from MedShapeNet) (2.18.0)\n",
            "Requirement already satisfied: jupyter-core>=4.9.2 in /usr/local/lib/python3.10/dist-packages (from MedShapeNet) (5.7.2)\n",
            "Requirement already satisfied: packaging>=17.0 in /usr/local/lib/python3.10/dist-packages (from MedShapeNet) (24.1)\n",
            "Requirement already satisfied: traitlets>=5.1.0 in /usr/local/lib/python3.10/dist-packages (from MedShapeNet) (5.7.1)\n",
            "Requirement already satisfied: termcolor in /usr/local/lib/python3.10/dist-packages (from fire>=0.6.0->MedShapeNet) (2.5.0)\n",
            "Requirement already satisfied: platformdirs>=2.5 in /usr/local/lib/python3.10/dist-packages (from jupyter-core>=4.9.2->MedShapeNet) (4.3.6)\n",
            "Requirement already satisfied: certifi in /usr/local/lib/python3.10/dist-packages (from minio>=7.2.8->MedShapeNet) (2024.8.30)\n",
            "Requirement already satisfied: urllib3 in /usr/local/lib/python3.10/dist-packages (from minio>=7.2.8->MedShapeNet) (2.2.3)\n",
            "Requirement already satisfied: argon2-cffi in /usr/local/lib/python3.10/dist-packages (from minio>=7.2.8->MedShapeNet) (23.1.0)\n",
            "Requirement already satisfied: pycryptodome in /usr/local/lib/python3.10/dist-packages (from minio>=7.2.8->MedShapeNet) (3.21.0)\n",
            "Requirement already satisfied: typing-extensions in /usr/local/lib/python3.10/dist-packages (from minio>=7.2.8->MedShapeNet) (4.12.2)\n",
            "Requirement already satisfied: python-utils>=3.4.5 in /usr/local/lib/python3.10/dist-packages (from numpy-stl>=3.1.2->MedShapeNet) (3.9.0)\n",
            "Requirement already satisfied: charset-normalizer<4,>=2 in /usr/local/lib/python3.10/dist-packages (from requests>=2.32.3->MedShapeNet) (3.3.2)\n",
            "Requirement already satisfied: idna<4,>=2.5 in /usr/local/lib/python3.10/dist-packages (from requests>=2.32.3->MedShapeNet) (3.10)\n",
            "Requirement already satisfied: argon2-cffi-bindings in /usr/local/lib/python3.10/dist-packages (from argon2-cffi->minio>=7.2.8->MedShapeNet) (21.2.0)\n",
            "Requirement already satisfied: cffi>=1.0.1 in /usr/local/lib/python3.10/dist-packages (from argon2-cffi-bindings->argon2-cffi->minio>=7.2.8->MedShapeNet) (1.17.1)\n",
            "Requirement already satisfied: pycparser in /usr/local/lib/python3.10/dist-packages (from cffi>=1.0.1->argon2-cffi-bindings->argon2-cffi->minio>=7.2.8->MedShapeNet) (2.22)\n"
          ]
        }
      ]
    },
    {
      "cell_type": "code",
      "source": [
        "# __init__: Instantiate the class object\n",
        "from MedShapeNet import MedShapeNet as msn\n",
        "\n",
        "# This will create a folder to store and sort your data automatically\n",
        "msn_instance = msn(timeout=120)"
      ],
      "metadata": {
        "colab": {
          "base_uri": "https://localhost:8080/"
        },
        "id": "0S7pmmW69svT",
        "outputId": "8ddb549b-af51-48f4-fcf0-1b62decc9015"
      },
      "execution_count": null,
      "outputs": [
        {
          "output_type": "stream",
          "name": "stdout",
          "text": [
            "Connection to MinIO server timed out after 120 seconds.\n",
            "Download directory already exists at: /content/msn_downloads\n"
          ]
        }
      ]
    }
  ]
}